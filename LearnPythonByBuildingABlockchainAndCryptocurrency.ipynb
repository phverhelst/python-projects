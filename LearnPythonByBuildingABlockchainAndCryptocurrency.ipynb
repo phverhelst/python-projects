{
  "nbformat": 4,
  "nbformat_minor": 0,
  "metadata": {
    "colab": {
      "provenance": [],
      "collapsed_sections": [
        "dnHa0yz5n2pm",
        "B10WZKPWoH5i",
        "YbJ4ZfLqq9Ao",
        "YsOZ45aNrZaN",
        "kX-DVjeEu-VN",
        "y2n2dNUg5_ml",
        "RxhfrpZlHaw_",
        "JSAqIO9kJi6A",
        "_QW8J7sVL2al",
        "HnbIjOeFM9uF",
        "VG4-oAVCXG_1",
        "C1O_Xr3NbxpO",
        "TXH_1bzsf1Zp",
        "c0w4mB1Aiq9t",
        "KHq4oZauo6LD",
        "sqyh8fZYwBU7",
        "6rS-u_gSbo2j",
        "PyWOtH-acZfA",
        "lnClDvlshBer",
        "y2oxOOuWk10Z"
      ],
      "authorship_tag": "ABX9TyM4h++yYnIIqyRv/9sa+2MN",
      "include_colab_link": true
    },
    "kernelspec": {
      "name": "python3",
      "display_name": "Python 3"
    },
    "language_info": {
      "name": "python"
    }
  },
  "cells": [
    {
      "cell_type": "markdown",
      "metadata": {
        "id": "view-in-github",
        "colab_type": "text"
      },
      "source": [
        "<a href=\"https://colab.research.google.com/github/phverhelst/python-projects/blob/main/LearnPythonByBuildingABlockchainAndCryptocurrency.ipynb\" target=\"_parent\"><img src=\"https://colab.research.google.com/assets/colab-badge.svg\" alt=\"Open In Colab\"/></a>"
      ]
    },
    {
      "cell_type": "markdown",
      "source": [
        "# Learn Python by Building a Blockchain and Cryptocurrency\n",
        "\n"
      ],
      "metadata": {
        "id": "-ZK57XTtn_uU"
      }
    },
    {
      "cell_type": "markdown",
      "source": [
        "## Section 1: Getting Started"
      ],
      "metadata": {
        "id": "dnHa0yz5n2pm"
      }
    },
    {
      "cell_type": "markdown",
      "source": [
        "### 1.3 Setting Up Python?"
      ],
      "metadata": {
        "id": "xw7sXQNH9uPc"
      }
    },
    {
      "cell_type": "code",
      "execution_count": null,
      "metadata": {
        "id": "TH3vapt9PyUb"
      },
      "outputs": [],
      "source": [
        "2+2"
      ]
    },
    {
      "cell_type": "markdown",
      "source": [
        "### 1.4 Writing our First Python Code"
      ],
      "metadata": {
        "id": "BrXozOca951L"
      }
    },
    {
      "cell_type": "code",
      "source": [
        "input('Please enter your name: ')"
      ],
      "metadata": {
        "id": "dVDcvZyhRa9M"
      },
      "execution_count": null,
      "outputs": []
    },
    {
      "cell_type": "code",
      "source": [
        "my_name = input('Please enter your name: ')\n",
        "my_name"
      ],
      "metadata": {
        "id": "ZDV0KeOtRd2T"
      },
      "execution_count": null,
      "outputs": []
    },
    {
      "cell_type": "code",
      "source": [
        "file = open('name.txt', mode='w')\n",
        "file"
      ],
      "metadata": {
        "id": "bPohy579RjQq"
      },
      "execution_count": null,
      "outputs": []
    },
    {
      "cell_type": "code",
      "source": [
        "file.write(my_name)\n",
        "file.close()"
      ],
      "metadata": {
        "id": "2xnKRPN1RuRQ"
      },
      "execution_count": null,
      "outputs": []
    },
    {
      "cell_type": "code",
      "source": [
        "file = open('name.txt', mode='r')\n",
        "file.read()"
      ],
      "metadata": {
        "id": "fbneQEACSM6Y"
      },
      "execution_count": null,
      "outputs": []
    },
    {
      "cell_type": "markdown",
      "source": [
        "## Section 2: Diving Into the Basics of Python"
      ],
      "metadata": {
        "id": "B10WZKPWoH5i"
      }
    },
    {
      "cell_type": "markdown",
      "source": [
        "### 2.3 Working with Variables"
      ],
      "metadata": {
        "id": "YbJ4ZfLqq9Ao"
      }
    },
    {
      "cell_type": "code",
      "source": [
        "2"
      ],
      "metadata": {
        "colab": {
          "base_uri": "https://localhost:8080/"
        },
        "id": "XSOEDwornDBK",
        "outputId": "a5462b3b-da66-4006-bf7d-477a1ced53af"
      },
      "execution_count": null,
      "outputs": [
        {
          "output_type": "execute_result",
          "data": {
            "text/plain": [
              "2"
            ]
          },
          "metadata": {},
          "execution_count": 1
        }
      ]
    },
    {
      "cell_type": "code",
      "source": [
        "age = 29\n",
        "age"
      ],
      "metadata": {
        "colab": {
          "base_uri": "https://localhost:8080/"
        },
        "id": "WQyb0KPvnHIR",
        "outputId": "2fd4d1ab-ef17-4516-d5c8-546b8477ce3c"
      },
      "execution_count": null,
      "outputs": [
        {
          "output_type": "execute_result",
          "data": {
            "text/plain": [
              "29"
            ]
          },
          "metadata": {},
          "execution_count": 2
        }
      ]
    },
    {
      "cell_type": "code",
      "source": [
        "age = 30\n",
        "age"
      ],
      "metadata": {
        "colab": {
          "base_uri": "https://localhost:8080/"
        },
        "id": "aEeXYw-enZ28",
        "outputId": "c9b64949-a86c-4138-b884-08a10b05932b"
      },
      "execution_count": null,
      "outputs": [
        {
          "output_type": "execute_result",
          "data": {
            "text/plain": [
              "30"
            ]
          },
          "metadata": {},
          "execution_count": 3
        }
      ]
    },
    {
      "cell_type": "code",
      "source": [],
      "metadata": {
        "id": "6_fxHs8Knb5c"
      },
      "execution_count": null,
      "outputs": []
    },
    {
      "cell_type": "code",
      "source": [
        "age = age - 1\n",
        "age"
      ],
      "metadata": {
        "colab": {
          "base_uri": "https://localhost:8080/"
        },
        "id": "9essoh_8nc8U",
        "outputId": "e907ab9a-6f97-4fb8-c418-c4d54e0d2bd4"
      },
      "execution_count": null,
      "outputs": [
        {
          "output_type": "execute_result",
          "data": {
            "text/plain": [
              "29"
            ]
          },
          "metadata": {},
          "execution_count": 4
        }
      ]
    },
    {
      "cell_type": "code",
      "source": [
        "age = 29.5\n",
        "age"
      ],
      "metadata": {
        "colab": {
          "base_uri": "https://localhost:8080/"
        },
        "id": "arARJAgDnjpa",
        "outputId": "e05a19dc-b451-45f3-cd4f-4c8554ac9f9b"
      },
      "execution_count": null,
      "outputs": [
        {
          "output_type": "execute_result",
          "data": {
            "text/plain": [
              "29.5"
            ]
          },
          "metadata": {},
          "execution_count": 5
        }
      ]
    },
    {
      "cell_type": "code",
      "source": [
        "is_old = True\n",
        "is_old"
      ],
      "metadata": {
        "colab": {
          "base_uri": "https://localhost:8080/"
        },
        "id": "4-z44mGGnkw6",
        "outputId": "f1e4f95f-a314-4f11-e0d6-48d74fcd96f5"
      },
      "execution_count": null,
      "outputs": [
        {
          "output_type": "execute_result",
          "data": {
            "text/plain": [
              "True"
            ]
          },
          "metadata": {},
          "execution_count": 6
        }
      ]
    },
    {
      "cell_type": "code",
      "source": [
        "name = 'Max'\n",
        "name"
      ],
      "metadata": {
        "colab": {
          "base_uri": "https://localhost:8080/",
          "height": 35
        },
        "id": "3kOn81Ijn1Mt",
        "outputId": "b13e489d-d806-4a5b-d8ce-c3c2466e8113"
      },
      "execution_count": null,
      "outputs": [
        {
          "output_type": "execute_result",
          "data": {
            "text/plain": [
              "'Max'"
            ],
            "application/vnd.google.colaboratory.intrinsic+json": {
              "type": "string"
            }
          },
          "metadata": {},
          "execution_count": 7
        }
      ]
    },
    {
      "cell_type": "code",
      "source": [],
      "metadata": {
        "id": "Kzsf60J0n2SN"
      },
      "execution_count": null,
      "outputs": []
    },
    {
      "cell_type": "markdown",
      "source": [
        "### 2.4 Working with Numbers"
      ],
      "metadata": {
        "id": "YsOZ45aNrZaN"
      }
    },
    {
      "cell_type": "code",
      "source": [
        "age = '29'\n",
        "age + 1"
      ],
      "metadata": {
        "id": "H1mPGBXerjaZ"
      },
      "execution_count": null,
      "outputs": []
    },
    {
      "cell_type": "code",
      "source": [
        "1"
      ],
      "metadata": {
        "colab": {
          "base_uri": "https://localhost:8080/"
        },
        "id": "NV5nRVXDruq0",
        "outputId": "522f21a9-6110-4c78-c0e7-6b05624280c7"
      },
      "execution_count": null,
      "outputs": [
        {
          "output_type": "execute_result",
          "data": {
            "text/plain": [
              "1"
            ]
          },
          "metadata": {},
          "execution_count": 9
        }
      ]
    },
    {
      "cell_type": "code",
      "source": [
        "age + '1'"
      ],
      "metadata": {
        "colab": {
          "base_uri": "https://localhost:8080/",
          "height": 35
        },
        "id": "gbA4JAsEryFD",
        "outputId": "9ecb5284-07e0-491c-9458-ba89d5e022ca"
      },
      "execution_count": null,
      "outputs": [
        {
          "output_type": "execute_result",
          "data": {
            "text/plain": [
              "'291'"
            ],
            "application/vnd.google.colaboratory.intrinsic+json": {
              "type": "string"
            }
          },
          "metadata": {},
          "execution_count": 10
        }
      ]
    },
    {
      "cell_type": "code",
      "source": [
        "'Hello ' + 'World'"
      ],
      "metadata": {
        "colab": {
          "base_uri": "https://localhost:8080/",
          "height": 35
        },
        "id": "HgiT1QXRr0h6",
        "outputId": "c9d3493e-4f18-475d-b475-76467fd72b9c"
      },
      "execution_count": null,
      "outputs": [
        {
          "output_type": "execute_result",
          "data": {
            "text/plain": [
              "'Hello World'"
            ],
            "application/vnd.google.colaboratory.intrinsic+json": {
              "type": "string"
            }
          },
          "metadata": {},
          "execution_count": 11
        }
      ]
    },
    {
      "cell_type": "code",
      "source": [
        "int(age) + 1"
      ],
      "metadata": {
        "colab": {
          "base_uri": "https://localhost:8080/"
        },
        "id": "s8YH9_IXr4la",
        "outputId": "e3581273-e454-4f78-c04e-52bb0bcda25f"
      },
      "execution_count": null,
      "outputs": [
        {
          "output_type": "execute_result",
          "data": {
            "text/plain": [
              "30"
            ]
          },
          "metadata": {},
          "execution_count": 12
        }
      ]
    },
    {
      "cell_type": "code",
      "source": [
        "int('hello')"
      ],
      "metadata": {
        "id": "1FRkR2wmr65x"
      },
      "execution_count": null,
      "outputs": []
    },
    {
      "cell_type": "code",
      "source": [
        "int(1.5)"
      ],
      "metadata": {
        "colab": {
          "base_uri": "https://localhost:8080/"
        },
        "id": "TmFlcwPPsKg1",
        "outputId": "5e804b77-cd4f-4a4f-9892-dee42c4c1ca2"
      },
      "execution_count": null,
      "outputs": [
        {
          "output_type": "execute_result",
          "data": {
            "text/plain": [
              "1"
            ]
          },
          "metadata": {},
          "execution_count": 14
        }
      ]
    },
    {
      "cell_type": "code",
      "source": [
        "int(1.8)"
      ],
      "metadata": {
        "colab": {
          "base_uri": "https://localhost:8080/"
        },
        "id": "ystDyEBnsNo8",
        "outputId": "1048fbe5-cb14-4405-ef2f-008b232146af"
      },
      "execution_count": null,
      "outputs": [
        {
          "output_type": "execute_result",
          "data": {
            "text/plain": [
              "1"
            ]
          },
          "metadata": {},
          "execution_count": 15
        }
      ]
    },
    {
      "cell_type": "code",
      "source": [
        "int(True)"
      ],
      "metadata": {
        "colab": {
          "base_uri": "https://localhost:8080/"
        },
        "id": "24OTDrA6sPbQ",
        "outputId": "f6e16d31-58a4-45d1-9b7c-0b15f41b4faf"
      },
      "execution_count": null,
      "outputs": [
        {
          "output_type": "execute_result",
          "data": {
            "text/plain": [
              "1"
            ]
          },
          "metadata": {},
          "execution_count": 16
        }
      ]
    },
    {
      "cell_type": "code",
      "source": [
        "int(False)"
      ],
      "metadata": {
        "colab": {
          "base_uri": "https://localhost:8080/"
        },
        "id": "ReulwlLgsUNT",
        "outputId": "882cedbc-f4aa-43be-d90f-b8953afe069c"
      },
      "execution_count": null,
      "outputs": [
        {
          "output_type": "execute_result",
          "data": {
            "text/plain": [
              "0"
            ]
          },
          "metadata": {},
          "execution_count": 17
        }
      ]
    },
    {
      "cell_type": "code",
      "source": [
        "int(-1.5)"
      ],
      "metadata": {
        "colab": {
          "base_uri": "https://localhost:8080/"
        },
        "id": "5yU-GBNjsVd7",
        "outputId": "cdebc0be-48e4-4798-b383-07abad3382c7"
      },
      "execution_count": null,
      "outputs": [
        {
          "output_type": "execute_result",
          "data": {
            "text/plain": [
              "-1"
            ]
          },
          "metadata": {},
          "execution_count": 18
        }
      ]
    },
    {
      "cell_type": "code",
      "source": [
        "age = '29'\n",
        "float(age)"
      ],
      "metadata": {
        "colab": {
          "base_uri": "https://localhost:8080/"
        },
        "id": "k5mcTQCpsas6",
        "outputId": "3e965c4e-5ba2-4125-f767-c4b30cb810a0"
      },
      "execution_count": null,
      "outputs": [
        {
          "output_type": "execute_result",
          "data": {
            "text/plain": [
              "29.0"
            ]
          },
          "metadata": {},
          "execution_count": 19
        }
      ]
    },
    {
      "cell_type": "code",
      "source": [
        "float(age) + 1"
      ],
      "metadata": {
        "colab": {
          "base_uri": "https://localhost:8080/"
        },
        "id": "Q-e6XhZHuG-5",
        "outputId": "ee7d8a94-9810-4fdc-f09e-2482c06d12da"
      },
      "execution_count": null,
      "outputs": [
        {
          "output_type": "execute_result",
          "data": {
            "text/plain": [
              "30.0"
            ]
          },
          "metadata": {},
          "execution_count": 20
        }
      ]
    },
    {
      "cell_type": "code",
      "source": [
        "float(True)"
      ],
      "metadata": {
        "colab": {
          "base_uri": "https://localhost:8080/"
        },
        "id": "fe9O_oCouLfI",
        "outputId": "ba6d5b3a-340d-485f-abe1-4afd7cfb498a"
      },
      "execution_count": null,
      "outputs": [
        {
          "output_type": "execute_result",
          "data": {
            "text/plain": [
              "1.0"
            ]
          },
          "metadata": {},
          "execution_count": 21
        }
      ]
    },
    {
      "cell_type": "code",
      "source": [
        "float(False)"
      ],
      "metadata": {
        "colab": {
          "base_uri": "https://localhost:8080/"
        },
        "id": "tphrcuqAuNFA",
        "outputId": "7f71de7f-4d25-4efd-bddc-1ed90fda65d1"
      },
      "execution_count": null,
      "outputs": [
        {
          "output_type": "execute_result",
          "data": {
            "text/plain": [
              "0.0"
            ]
          },
          "metadata": {},
          "execution_count": 23
        }
      ]
    },
    {
      "cell_type": "code",
      "source": [
        "fans = 1000000\n",
        "fans"
      ],
      "metadata": {
        "colab": {
          "base_uri": "https://localhost:8080/"
        },
        "id": "mTzIhHdauO_H",
        "outputId": "fa938885-982b-4467-f63d-897aa1bb21e8"
      },
      "execution_count": null,
      "outputs": [
        {
          "output_type": "execute_result",
          "data": {
            "text/plain": [
              "1000000"
            ]
          },
          "metadata": {},
          "execution_count": 24
        }
      ]
    },
    {
      "cell_type": "code",
      "source": [
        "fans  = 1_000_000\n",
        "fans"
      ],
      "metadata": {
        "colab": {
          "base_uri": "https://localhost:8080/"
        },
        "id": "du-Qf6fXupxc",
        "outputId": "e97e319b-ac52-44c8-ec1a-2e033d608680"
      },
      "execution_count": null,
      "outputs": [
        {
          "output_type": "execute_result",
          "data": {
            "text/plain": [
              "1000000"
            ]
          },
          "metadata": {},
          "execution_count": 25
        }
      ]
    },
    {
      "cell_type": "code",
      "source": [
        "fans = 1_000_000\n",
        "fans + 1"
      ],
      "metadata": {
        "colab": {
          "base_uri": "https://localhost:8080/"
        },
        "id": "mQPFyfyUuvVD",
        "outputId": "be8a22b9-378b-4e22-f968-5ae1e139bb3e"
      },
      "execution_count": null,
      "outputs": [
        {
          "output_type": "execute_result",
          "data": {
            "text/plain": [
              "1000001"
            ]
          },
          "metadata": {},
          "execution_count": 26
        }
      ]
    },
    {
      "cell_type": "markdown",
      "source": [
        "### 2.5 Using Operators"
      ],
      "metadata": {
        "id": "kX-DVjeEu-VN"
      }
    },
    {
      "cell_type": "code",
      "source": [
        "\"Hello \" + \"World\""
      ],
      "metadata": {
        "colab": {
          "base_uri": "https://localhost:8080/",
          "height": 35
        },
        "id": "i02WKNPYu0I6",
        "outputId": "532f2ee1-05b7-4ad8-8e67-248bc26034b7"
      },
      "execution_count": null,
      "outputs": [
        {
          "output_type": "execute_result",
          "data": {
            "text/plain": [
              "'Hello World'"
            ],
            "application/vnd.google.colaboratory.intrinsic+json": {
              "type": "string"
            }
          },
          "metadata": {},
          "execution_count": 27
        }
      ]
    },
    {
      "cell_type": "code",
      "source": [
        "greeting = \"Hello \" + \"World\"\n",
        "greeting"
      ],
      "metadata": {
        "colab": {
          "base_uri": "https://localhost:8080/",
          "height": 35
        },
        "id": "dbfKnK9s5kDQ",
        "outputId": "966cae78-fc8e-4b49-d7dc-794ac85a8408"
      },
      "execution_count": null,
      "outputs": [
        {
          "output_type": "execute_result",
          "data": {
            "text/plain": [
              "'Hello World'"
            ],
            "application/vnd.google.colaboratory.intrinsic+json": {
              "type": "string"
            }
          },
          "metadata": {},
          "execution_count": 28
        }
      ]
    },
    {
      "cell_type": "code",
      "source": [
        "\"Hello \" * \"World\""
      ],
      "metadata": {
        "id": "i5CH5L9E5qmQ"
      },
      "execution_count": null,
      "outputs": []
    },
    {
      "cell_type": "code",
      "source": [
        "\"hello\" * 10"
      ],
      "metadata": {
        "colab": {
          "base_uri": "https://localhost:8080/",
          "height": 35
        },
        "id": "xWL-g5un5viv",
        "outputId": "39d8efae-0e44-4fd6-e234-115cdea14427"
      },
      "execution_count": null,
      "outputs": [
        {
          "output_type": "execute_result",
          "data": {
            "text/plain": [
              "'hellohellohellohellohellohellohellohellohellohello'"
            ],
            "application/vnd.google.colaboratory.intrinsic+json": {
              "type": "string"
            }
          },
          "metadata": {},
          "execution_count": 30
        }
      ]
    },
    {
      "cell_type": "code",
      "source": [
        "\"-\" * 30"
      ],
      "metadata": {
        "colab": {
          "base_uri": "https://localhost:8080/",
          "height": 35
        },
        "id": "aJrvSKfz5xsP",
        "outputId": "737f6680-4b58-45e0-cf0a-f00735a9c6a3"
      },
      "execution_count": null,
      "outputs": [
        {
          "output_type": "execute_result",
          "data": {
            "text/plain": [
              "'------------------------------'"
            ],
            "application/vnd.google.colaboratory.intrinsic+json": {
              "type": "string"
            }
          },
          "metadata": {},
          "execution_count": 31
        }
      ]
    },
    {
      "cell_type": "markdown",
      "source": [
        "### 2.6 Understanding a \"Special\" Behavior when Working with Numbers"
      ],
      "metadata": {
        "id": "y2n2dNUg5_ml"
      }
    },
    {
      "cell_type": "code",
      "source": [
        "1e10"
      ],
      "metadata": {
        "id": "OLf2zVuc5133",
        "colab": {
          "base_uri": "https://localhost:8080/"
        },
        "outputId": "8f085a0b-54cc-49e4-cf33-cb701c3fb95d"
      },
      "execution_count": null,
      "outputs": [
        {
          "output_type": "execute_result",
          "data": {
            "text/plain": [
              "10000000000.0"
            ]
          },
          "metadata": {},
          "execution_count": 1
        }
      ]
    },
    {
      "cell_type": "code",
      "source": [
        "1e6"
      ],
      "metadata": {
        "colab": {
          "base_uri": "https://localhost:8080/"
        },
        "id": "zOj2zetKGFWS",
        "outputId": "733659c7-141d-4307-a89b-ec7f3814bcef"
      },
      "execution_count": null,
      "outputs": [
        {
          "output_type": "execute_result",
          "data": {
            "text/plain": [
              "1000000.0"
            ]
          },
          "metadata": {},
          "execution_count": 2
        }
      ]
    },
    {
      "cell_type": "code",
      "source": [
        "1 - 0.9"
      ],
      "metadata": {
        "colab": {
          "base_uri": "https://localhost:8080/"
        },
        "id": "L10YmHTyGG8w",
        "outputId": "41f79d83-7c31-40ec-dc7c-ae3fd2c3f0cb"
      },
      "execution_count": null,
      "outputs": [
        {
          "output_type": "execute_result",
          "data": {
            "text/plain": [
              "0.09999999999999998"
            ]
          },
          "metadata": {},
          "execution_count": 3
        }
      ]
    },
    {
      "cell_type": "code",
      "source": [
        "1 - 0.5"
      ],
      "metadata": {
        "colab": {
          "base_uri": "https://localhost:8080/"
        },
        "id": "q0E3BK6RGKTf",
        "outputId": "6da99b6d-f499-4ced-a553-0f3d8bc2ab24"
      },
      "execution_count": null,
      "outputs": [
        {
          "output_type": "execute_result",
          "data": {
            "text/plain": [
              "0.5"
            ]
          },
          "metadata": {},
          "execution_count": 4
        }
      ]
    },
    {
      "cell_type": "code",
      "source": [
        "1 / 2"
      ],
      "metadata": {
        "colab": {
          "base_uri": "https://localhost:8080/"
        },
        "id": "hBpx-M9TGhol",
        "outputId": "aac8503c-6def-4e73-e82e-a04eca35ef0c"
      },
      "execution_count": null,
      "outputs": [
        {
          "output_type": "execute_result",
          "data": {
            "text/plain": [
              "0.5"
            ]
          },
          "metadata": {},
          "execution_count": 5
        }
      ]
    },
    {
      "cell_type": "code",
      "source": [
        "1 - 0.9 - 0.1"
      ],
      "metadata": {
        "colab": {
          "base_uri": "https://localhost:8080/"
        },
        "id": "1Rq-IKlZGlKF",
        "outputId": "ddfcb4d1-a65e-4d13-d59e-124d8ccc48af"
      },
      "execution_count": null,
      "outputs": [
        {
          "output_type": "execute_result",
          "data": {
            "text/plain": [
              "-2.7755575615628914e-17"
            ]
          },
          "metadata": {},
          "execution_count": 6
        }
      ]
    },
    {
      "cell_type": "markdown",
      "source": [
        "### 2.7 Working with Strings"
      ],
      "metadata": {
        "id": "RxhfrpZlHaw_"
      }
    },
    {
      "cell_type": "code",
      "source": [
        " name = \"Max'"
      ],
      "metadata": {
        "colab": {
          "base_uri": "https://localhost:8080/",
          "height": 140
        },
        "id": "6VCV7DzQGt1j",
        "outputId": "1b171656-b029-4409-df0f-dfd55d56e22e"
      },
      "execution_count": null,
      "outputs": [
        {
          "output_type": "error",
          "ename": "SyntaxError",
          "evalue": "ignored",
          "traceback": [
            "\u001b[0;36m  File \u001b[0;32m\"<ipython-input-7-2953350e1d63>\"\u001b[0;36m, line \u001b[0;32m1\u001b[0m\n\u001b[0;31m    name = \"Max'\u001b[0m\n\u001b[0m           ^\u001b[0m\n\u001b[0;31mSyntaxError\u001b[0m\u001b[0;31m:\u001b[0m unterminated string literal (detected at line 1)\n"
          ]
        }
      ]
    },
    {
      "cell_type": "code",
      "source": [
        "name = \"I'm pretty cool!\""
      ],
      "metadata": {
        "id": "m208J828H89M"
      },
      "execution_count": null,
      "outputs": []
    },
    {
      "cell_type": "code",
      "source": [
        "name = 'I'm pretty cool'"
      ],
      "metadata": {
        "colab": {
          "base_uri": "https://localhost:8080/",
          "height": 140
        },
        "id": "sajdpBXyIOV4",
        "outputId": "12e94545-0fd5-4458-ff0b-36f993354452"
      },
      "execution_count": null,
      "outputs": [
        {
          "output_type": "error",
          "ename": "SyntaxError",
          "evalue": "ignored",
          "traceback": [
            "\u001b[0;36m  File \u001b[0;32m\"<ipython-input-9-49dd077abcf2>\"\u001b[0;36m, line \u001b[0;32m1\u001b[0m\n\u001b[0;31m    name = 'I'm pretty cool'\u001b[0m\n\u001b[0m                           ^\u001b[0m\n\u001b[0;31mSyntaxError\u001b[0m\u001b[0;31m:\u001b[0m unterminated string literal (detected at line 1)\n"
          ]
        }
      ]
    },
    {
      "cell_type": "code",
      "source": [
        "name = 'I\\'m pretty cool!'\n",
        "name"
      ],
      "metadata": {
        "colab": {
          "base_uri": "https://localhost:8080/",
          "height": 35
        },
        "id": "dLkJrRUpIW23",
        "outputId": "0d7adabd-ae1c-4359-baaa-647f00f9fad4"
      },
      "execution_count": null,
      "outputs": [
        {
          "output_type": "execute_result",
          "data": {
            "text/plain": [
              "\"I'm pretty cool!\""
            ],
            "application/vnd.google.colaboratory.intrinsic+json": {
              "type": "string"
            }
          },
          "metadata": {},
          "execution_count": 11
        }
      ]
    },
    {
      "cell_type": "code",
      "source": [
        "longer_text = \"\"\"you can add your text\"\"\"\n",
        "longer_text = \"\"\"you can add your text\n",
        "wich can span multiple lines\n",
        "!!!\"\"\"\n",
        "longer_text"
      ],
      "metadata": {
        "colab": {
          "base_uri": "https://localhost:8080/",
          "height": 35
        },
        "id": "UH-eD_XAIfit",
        "outputId": "8e8d31e1-e7ed-4225-fc73-555108315251"
      },
      "execution_count": null,
      "outputs": [
        {
          "output_type": "execute_result",
          "data": {
            "text/plain": [
              "'you can add your text\\nwich can span multiple lines\\n!!!'"
            ],
            "application/vnd.google.colaboratory.intrinsic+json": {
              "type": "string"
            }
          },
          "metadata": {},
          "execution_count": 12
        }
      ]
    },
    {
      "cell_type": "markdown",
      "source": [
        "### 2.8 Working with Lists"
      ],
      "metadata": {
        "id": "JSAqIO9kJi6A"
      }
    },
    {
      "cell_type": "code",
      "source": [
        "blockchain = [1, 8.6, 5.1]\n",
        "blockchain"
      ],
      "metadata": {
        "colab": {
          "base_uri": "https://localhost:8080/"
        },
        "id": "4AxDtbFoI-Hb",
        "outputId": "2e864a27-7af1-4c3c-e4fe-240d932f4113"
      },
      "execution_count": null,
      "outputs": [
        {
          "output_type": "execute_result",
          "data": {
            "text/plain": [
              "[1, 8.6, 5.1]"
            ]
          },
          "metadata": {},
          "execution_count": 13
        }
      ]
    },
    {
      "cell_type": "code",
      "source": [
        "blockchain[1]"
      ],
      "metadata": {
        "colab": {
          "base_uri": "https://localhost:8080/"
        },
        "id": "-vqSc3BwLWRD",
        "outputId": "6d57ce64-f605-4c6d-9497-889628626ac6"
      },
      "execution_count": null,
      "outputs": [
        {
          "output_type": "execute_result",
          "data": {
            "text/plain": [
              "8.6"
            ]
          },
          "metadata": {},
          "execution_count": 14
        }
      ]
    },
    {
      "cell_type": "code",
      "source": [
        "blockchain[1] +2"
      ],
      "metadata": {
        "colab": {
          "base_uri": "https://localhost:8080/"
        },
        "id": "lh0MmzLILZWf",
        "outputId": "258b1478-8e40-479a-dd09-0da145d3f7e1"
      },
      "execution_count": null,
      "outputs": [
        {
          "output_type": "execute_result",
          "data": {
            "text/plain": [
              "10.6"
            ]
          },
          "metadata": {},
          "execution_count": 15
        }
      ]
    },
    {
      "cell_type": "code",
      "source": [
        "blockchain"
      ],
      "metadata": {
        "colab": {
          "base_uri": "https://localhost:8080/"
        },
        "id": "tR8byD-oLh3H",
        "outputId": "37222372-75cf-40fa-dbff-149cb8f4e0fc"
      },
      "execution_count": null,
      "outputs": [
        {
          "output_type": "execute_result",
          "data": {
            "text/plain": [
              "[1, 8.6, 5.1]"
            ]
          },
          "metadata": {},
          "execution_count": 16
        }
      ]
    },
    {
      "cell_type": "markdown",
      "source": [
        "### 2.9 Adding & Removing List Items"
      ],
      "metadata": {
        "id": "_QW8J7sVL2al"
      }
    },
    {
      "cell_type": "code",
      "source": [
        "blockchain = [ 1, 8.6, 5.1, 10]\n",
        "blockchain"
      ],
      "metadata": {
        "colab": {
          "base_uri": "https://localhost:8080/"
        },
        "id": "dJzauDG7Ljue",
        "outputId": "b06b3623-3464-47a6-80d5-62f9b55f3cc7"
      },
      "execution_count": null,
      "outputs": [
        {
          "output_type": "execute_result",
          "data": {
            "text/plain": [
              "[1, 8.6, 5.1, 10]"
            ]
          },
          "metadata": {},
          "execution_count": 18
        }
      ]
    },
    {
      "cell_type": "code",
      "source": [
        "blockchain.append(3)\n",
        "blockchain"
      ],
      "metadata": {
        "colab": {
          "base_uri": "https://localhost:8080/"
        },
        "id": "I2Y7g_hTMLaL",
        "outputId": "ea842992-b430-450f-b755-c238ecc09303"
      },
      "execution_count": null,
      "outputs": [
        {
          "output_type": "execute_result",
          "data": {
            "text/plain": [
              "[1, 8.6, 5.1, 10, 3, 3, 3]"
            ]
          },
          "metadata": {},
          "execution_count": 21
        }
      ]
    },
    {
      "cell_type": "code",
      "source": [
        "blockchain.pop()"
      ],
      "metadata": {
        "colab": {
          "base_uri": "https://localhost:8080/"
        },
        "id": "n3HMnO31MSva",
        "outputId": "207c0f56-1360-4c46-dde9-4372c9e296b8"
      },
      "execution_count": null,
      "outputs": [
        {
          "output_type": "execute_result",
          "data": {
            "text/plain": [
              "3"
            ]
          },
          "metadata": {},
          "execution_count": 26
        }
      ]
    },
    {
      "cell_type": "code",
      "source": [
        "blockchain"
      ],
      "metadata": {
        "colab": {
          "base_uri": "https://localhost:8080/"
        },
        "id": "1hhH6o3MMaH3",
        "outputId": "88662701-556e-4a37-98f8-ac8e100a89f4"
      },
      "execution_count": null,
      "outputs": [
        {
          "output_type": "execute_result",
          "data": {
            "text/plain": [
              "[1, 8.6, 5.1, 10]"
            ]
          },
          "metadata": {},
          "execution_count": 27
        }
      ]
    },
    {
      "cell_type": "markdown",
      "source": [
        "### 2.12 Using Functions to Add List Items"
      ],
      "metadata": {
        "id": "HnbIjOeFM9uF"
      }
    },
    {
      "cell_type": "code",
      "source": [
        "blockchain = []\n",
        "\n",
        "def add_value():\n",
        "  blockchain.append(5.3)\n",
        "  print(blockchain)\n",
        "\n",
        "add_value()\n"
      ],
      "metadata": {
        "id": "JOQkVBB-MuM9"
      },
      "execution_count": null,
      "outputs": []
    },
    {
      "cell_type": "code",
      "source": [
        "add_value()"
      ],
      "metadata": {
        "colab": {
          "base_uri": "https://localhost:8080/"
        },
        "id": "dFXNmlqnUHAn",
        "outputId": "8b45628d-f36b-4e58-bde8-2ffc52e1a57b"
      },
      "execution_count": null,
      "outputs": [
        {
          "output_type": "stream",
          "name": "stdout",
          "text": [
            "[5.3, 5.3]\n"
          ]
        }
      ]
    },
    {
      "cell_type": "code",
      "source": [
        "add_value()"
      ],
      "metadata": {
        "colab": {
          "base_uri": "https://localhost:8080/"
        },
        "id": "w4GWkZ5qUQ-z",
        "outputId": "ac578862-f41e-4e34-c0b1-450eb094079e"
      },
      "execution_count": null,
      "outputs": [
        {
          "output_type": "stream",
          "name": "stdout",
          "text": [
            "[5.3, 5.3, 5.3]\n"
          ]
        }
      ]
    },
    {
      "cell_type": "code",
      "source": [
        "blockchain = []\n",
        "\n",
        "def add_value():\n",
        "  blockchain.append([blockchain[0], 5.3])\n",
        "  print(blockchain)\n",
        "\n",
        "add_value()"
      ],
      "metadata": {
        "id": "jVZPk9rKUVva"
      },
      "execution_count": null,
      "outputs": []
    },
    {
      "cell_type": "code",
      "source": [
        "blockchain = [1]\n",
        "def add_value():\n",
        "  blockchain.append([blockchain[0], 5.3])\n",
        "  print(blockchain)\n",
        "\n",
        "add_value()"
      ],
      "metadata": {
        "colab": {
          "base_uri": "https://localhost:8080/"
        },
        "id": "tkXbLXJyVfsB",
        "outputId": "c1e4c2fe-d01d-44eb-e247-70a74d720d4e"
      },
      "execution_count": null,
      "outputs": [
        {
          "output_type": "stream",
          "name": "stdout",
          "text": [
            "[1, [1, 5.3]]\n"
          ]
        }
      ]
    },
    {
      "cell_type": "code",
      "source": [
        "add_value()"
      ],
      "metadata": {
        "colab": {
          "base_uri": "https://localhost:8080/"
        },
        "id": "rX_ZV-1-VsCg",
        "outputId": "01b3f8c1-0f27-4e32-c41a-446e2b30fa39"
      },
      "execution_count": null,
      "outputs": [
        {
          "output_type": "stream",
          "name": "stdout",
          "text": [
            "[1, [1, 5.3], [1, 5.3]]\n"
          ]
        }
      ]
    },
    {
      "cell_type": "code",
      "source": [
        "add_value()"
      ],
      "metadata": {
        "colab": {
          "base_uri": "https://localhost:8080/"
        },
        "id": "WVtHR-vyWUhc",
        "outputId": "df8b072f-8ec1-4600-bfc9-cdefa748a870"
      },
      "execution_count": null,
      "outputs": [
        {
          "output_type": "stream",
          "name": "stdout",
          "text": [
            "[1, [1, 5.3], [1, 5.3], [1, 5.3]]\n"
          ]
        }
      ]
    },
    {
      "cell_type": "markdown",
      "source": [
        "### 2.13 Accessing the Last List Item  "
      ],
      "metadata": {
        "id": "VG4-oAVCXG_1"
      }
    },
    {
      "cell_type": "code",
      "source": [
        "blockchain = [1]\n",
        "\n",
        "def add_value():\n",
        "  blockchain.append([blockchain[-1], 5.3])\n",
        "  print(blockchain)\n",
        "\n",
        "add_value()\n",
        "add_value()\n",
        "add_value()"
      ],
      "metadata": {
        "colab": {
          "base_uri": "https://localhost:8080/"
        },
        "id": "YqQESCpzWXxa",
        "outputId": "189e08f7-f233-43b8-d1a2-ac8408303624"
      },
      "execution_count": null,
      "outputs": [
        {
          "output_type": "stream",
          "name": "stdout",
          "text": [
            "[1, [1, 5.3]]\n",
            "[1, [1, 5.3], [[1, 5.3], 5.3]]\n",
            "[1, [1, 5.3], [[1, 5.3], 5.3], [[[1, 5.3], 5.3], 5.3]]\n"
          ]
        }
      ]
    },
    {
      "cell_type": "code",
      "source": [
        "blockchain = [[1]]\n",
        "\n",
        "def add_value():\n",
        "  blockchain.append([blockchain[-1], 5.3])\n",
        "  print(blockchain)\n",
        "\n",
        "add_value()\n",
        "add_value()\n",
        "add_value()"
      ],
      "metadata": {
        "colab": {
          "base_uri": "https://localhost:8080/"
        },
        "id": "jiAfyoiMYjEr",
        "outputId": "d88965ab-8fa9-4800-9099-a9cde95806d8"
      },
      "execution_count": null,
      "outputs": [
        {
          "output_type": "stream",
          "name": "stdout",
          "text": [
            "[[1], [[1], 5.3]]\n",
            "[[1], [[1], 5.3], [[[1], 5.3], 5.3]]\n",
            "[[1], [[1], 5.3], [[[1], 5.3], 5.3], [[[[1], 5.3], 5.3], 5.3]]\n"
          ]
        }
      ]
    },
    {
      "cell_type": "code",
      "source": [
        "print(blockchain[0])\n",
        "print(blockchain[1])\n",
        "print(blockchain[2])\n",
        "print(blockchain[3])\n",
        "print(blockchain[4])"
      ],
      "metadata": {
        "id": "kupDT0zNYl1E"
      },
      "execution_count": null,
      "outputs": []
    },
    {
      "cell_type": "markdown",
      "source": [
        "### 2.14 Adding Arguments to Functions"
      ],
      "metadata": {
        "id": "C1O_Xr3NbxpO"
      }
    },
    {
      "cell_type": "code",
      "source": [
        "blockchain = [[1]]\n",
        "\n",
        "def add_value(transaction_amount):\n",
        "  blockchain.append([blockchain[-1], transaction_amount])\n",
        "  print(blockchain)\n",
        "\n",
        "add_value()\n",
        "add_value()\n",
        "add_value()"
      ],
      "metadata": {
        "id": "w3os_GbiaRl8"
      },
      "execution_count": null,
      "outputs": []
    },
    {
      "cell_type": "code",
      "source": [
        "blockchain = [[1]]\n",
        "\n",
        "def add_value(transaction_amount):\n",
        "  blockchain.append([blockchain[-1], transaction_amount])\n",
        "  print(blockchain)\n",
        "\n",
        "add_value(2)\n",
        "add_value(0.9)\n",
        "add_value(10.89)"
      ],
      "metadata": {
        "colab": {
          "base_uri": "https://localhost:8080/"
        },
        "id": "ARWeuRECfIyE",
        "outputId": "6b590c9a-d3dc-4054-bd66-6f40e8ff4ee4"
      },
      "execution_count": null,
      "outputs": [
        {
          "output_type": "stream",
          "name": "stdout",
          "text": [
            "[[1], [[1], 2]]\n",
            "[[1], [[1], 2], [[[1], 2], 0.9]]\n",
            "[[1], [[1], 2], [[[1], 2], 0.9], [[[[1], 2], 0.9], 10.89]]\n"
          ]
        }
      ]
    },
    {
      "cell_type": "markdown",
      "source": [
        "### 2.15 Understanding the \"return\" Keyword"
      ],
      "metadata": {
        "id": "TXH_1bzsf1Zp"
      }
    },
    {
      "cell_type": "code",
      "source": [
        "blockchain = [[1]]\n",
        "\n",
        "def get_last_blockchain_value():\n",
        "  return blockchain[-1]\n",
        "\n",
        "def add_value(transaction_amount):\n",
        "  blockchain.append([get_last_blockchain_value(), transaction_amount])\n",
        "\n",
        "add_value(2)\n",
        "add_value(0.9)\n",
        "add_value(10.89)\n",
        "\n",
        "print(blockchain)"
      ],
      "metadata": {
        "colab": {
          "base_uri": "https://localhost:8080/"
        },
        "id": "bFOIr2EHfM5e",
        "outputId": "2a7ea952-b4e9-479f-93cd-3abff337fe89"
      },
      "execution_count": null,
      "outputs": [
        {
          "output_type": "stream",
          "name": "stdout",
          "text": [
            "[[1], [[1], 2], [[[1], 2], 0.9], [[[[1], 2], 0.9], 10.89]]\n"
          ]
        }
      ]
    },
    {
      "cell_type": "markdown",
      "source": [
        "### 2.16 Using Default Arguments"
      ],
      "metadata": {
        "id": "c0w4mB1Aiq9t"
      }
    },
    {
      "cell_type": "code",
      "source": [
        "blockchain = []\n",
        "\n",
        "def get_last_blockchain_value():\n",
        "  return blockchain[-1]\n",
        "\n",
        "def add_value(transaction_amount):\n",
        "  blockchain.append([get_last_blockchain_value(), transaction_amount])\n",
        "\n",
        "add_value(2)\n",
        "add_value(0.9)\n",
        "add_value(10.89)\n",
        "\n",
        "print(blockchain)"
      ],
      "metadata": {
        "id": "jXClcmeZhLUG"
      },
      "execution_count": null,
      "outputs": []
    },
    {
      "cell_type": "code",
      "source": [
        "blockchain = []\n",
        "\n",
        "def get_last_blockchain_value():\n",
        "  return blockchain[-1]\n",
        "\n",
        "def add_value(transaction_amount, last_transaction=get_last_blockchain_value()):\n",
        "  blockchain.append([last_transaction, transaction_amount])\n",
        "\n",
        "add_value(2, [1])\n",
        "add_value(0.9)\n",
        "add_value(10.89)\n",
        "\n",
        "print(blockchain)"
      ],
      "metadata": {
        "id": "4gJSbG3CkEBf"
      },
      "execution_count": null,
      "outputs": []
    },
    {
      "cell_type": "code",
      "source": [
        "blockchain = []\n",
        "\n",
        "def get_last_blockchain_value():\n",
        "  return blockchain[-1]\n",
        "\n",
        "def add_value(transaction_amount, last_transaction=[1]):\n",
        "  blockchain.append([last_transaction, transaction_amount])\n",
        "\n",
        "add_value(2, [1])\n",
        "add_value(0.9, get_last_blockchain_value())\n",
        "add_value(10.89, get_last_blockchain_value())\n",
        "\n",
        "print(blockchain)"
      ],
      "metadata": {
        "colab": {
          "base_uri": "https://localhost:8080/"
        },
        "id": "Q0os7SH6mtM4",
        "outputId": "b148e541-c855-4151-8ec4-ff44033ee88b"
      },
      "execution_count": null,
      "outputs": [
        {
          "output_type": "stream",
          "name": "stdout",
          "text": [
            "[[[1], 2], [[[1], 2], 0.9], [[[[1], 2], 0.9], 10.89]]\n"
          ]
        }
      ]
    },
    {
      "cell_type": "markdown",
      "source": [
        "### 2.17 Working with Keyword Arguments"
      ],
      "metadata": {
        "id": "KHq4oZauo6LD"
      }
    },
    {
      "cell_type": "code",
      "source": [
        "blockchain = []\n",
        "\n",
        "def get_last_blockchain_value():\n",
        "  return blockchain[-1]\n",
        "\n",
        "def add_value(transaction_amount, last_transaction=[1]):\n",
        "  blockchain.append([last_transaction, transaction_amount])\n",
        "\n",
        "add_value(2, [1])\n",
        "add_value(get_last_blockchain_value(), 0.9)\n",
        "add_value(10.89, get_last_blockchain_value())\n",
        "\n",
        "print(blockchain)"
      ],
      "metadata": {
        "colab": {
          "base_uri": "https://localhost:8080/"
        },
        "id": "C0ZM4qouniVd",
        "outputId": "73590f5c-2dd3-4bf3-d459-30ba5a12f814"
      },
      "execution_count": null,
      "outputs": [
        {
          "output_type": "stream",
          "name": "stdout",
          "text": [
            "[[[1], 2], [0.9, [[1], 2]], [[0.9, [[1], 2]], 10.89]]\n"
          ]
        }
      ]
    },
    {
      "cell_type": "code",
      "source": [
        "blockchain = []\n",
        "\n",
        "def get_last_blockchain_value():\n",
        "  return blockchain[-1]\n",
        "\n",
        "def add_value(transaction_amount, last_transaction=[1]):\n",
        "  blockchain.append([last_transaction, transaction_amount])\n",
        "\n",
        "add_value(2, [1])\n",
        "add_value(last_transaction=get_last_blockchain_value(), transaction_amount=0.9)\n",
        "add_value(10.89, get_last_blockchain_value())\n",
        "\n",
        "print(blockchain)"
      ],
      "metadata": {
        "colab": {
          "base_uri": "https://localhost:8080/"
        },
        "id": "naKHT3x7vXUV",
        "outputId": "6b4ec0fe-bf52-43b4-c467-55d7096ff3ea"
      },
      "execution_count": null,
      "outputs": [
        {
          "output_type": "stream",
          "name": "stdout",
          "text": [
            "[[[1], 2], [[[1], 2], 0.9], [[[[1], 2], 0.9], 10.89]]\n"
          ]
        }
      ]
    },
    {
      "cell_type": "markdown",
      "source": [
        "### 2.18 Using the \"input\" Function"
      ],
      "metadata": {
        "id": "sqyh8fZYwBU7"
      }
    },
    {
      "cell_type": "code",
      "source": [
        "blockchain = []\n",
        "\n",
        "def get_last_blockchain_value():\n",
        "  return blockchain[-1]\n",
        "\n",
        "def add_value(transaction_amount, last_transaction=[1]):\n",
        "  blockchain.append([last_transaction, transaction_amount])\n",
        "\n",
        "tx_amount = input('Your tranasction amount please: ')\n",
        "add_value(tx_amount)\n",
        "add_value(last_transaction=get_last_blockchain_value(), transaction_amount=0.9)\n",
        "add_value(10.89, get_last_blockchain_value())\n",
        "\n",
        "print(blockchain)"
      ],
      "metadata": {
        "id": "_agG_yU5wFCX",
        "colab": {
          "base_uri": "https://localhost:8080/"
        },
        "outputId": "dd14c4b3-6a50-43ab-bdb2-ddb2906fa14d"
      },
      "execution_count": 1,
      "outputs": [
        {
          "output_type": "stream",
          "name": "stdout",
          "text": [
            "Your tranasction amount please: 5.99\n",
            "[[[1], '5.99'], [[[1], '5.99'], 0.9], [[[[1], '5.99'], 0.9], 10.89]]\n"
          ]
        }
      ]
    },
    {
      "cell_type": "code",
      "source": [
        "blockchain = []\n",
        "\n",
        "def get_last_blockchain_value():\n",
        "  return blockchain[-1]\n",
        "\n",
        "def add_value(transaction_amount, last_transaction=[1]):\n",
        "  blockchain.append([last_transaction, transaction_amount])\n",
        "\n",
        "tx_amount = float(input('Your tranasction amount please: '))\n",
        "add_value(tx_amount)\n",
        "add_value(last_transaction=get_last_blockchain_value(), transaction_amount=0.9)\n",
        "add_value(10.89, get_last_blockchain_value())\n",
        "\n",
        "print(blockchain)"
      ],
      "metadata": {
        "colab": {
          "base_uri": "https://localhost:8080/"
        },
        "id": "e7JQw_OUau-Q",
        "outputId": "dd4dd68b-4d44-4b39-c428-f49535e12e2f"
      },
      "execution_count": 2,
      "outputs": [
        {
          "output_type": "stream",
          "name": "stdout",
          "text": [
            "Your tranasction amount please: 5.99\n",
            "[[[1], 5.99], [[[1], 5.99], 0.9], [[[[1], 5.99], 0.9], 10.89]]\n"
          ]
        }
      ]
    },
    {
      "cell_type": "code",
      "source": [
        "blockchain = []\n",
        "\n",
        "def get_last_blockchain_value():\n",
        "  return blockchain[-1]\n",
        "\n",
        "def add_value(transaction_amount, last_transaction=[1]):\n",
        "  blockchain.append([last_transaction, transaction_amount])\n",
        "\n",
        "tx_amount = float(input('Your tranasction amount please: '))\n",
        "add_value(tx_amount)\n",
        "\n",
        "tx_amount = float(input('Your tranasction amount please: '))\n",
        "add_value(last_transaction=get_last_blockchain_value(), transaction_amount=tx_amount)\n",
        "\n",
        "tx_amount = float(input('Your tranasction amount please: '))\n",
        "add_value(tx_amount, get_last_blockchain_value())\n",
        "\n",
        "print(blockchain)"
      ],
      "metadata": {
        "colab": {
          "base_uri": "https://localhost:8080/"
        },
        "id": "t1UwFnMNayTP",
        "outputId": "3c45f691-8e3a-4179-f8fa-7915a503a195"
      },
      "execution_count": 3,
      "outputs": [
        {
          "output_type": "stream",
          "name": "stdout",
          "text": [
            "Your tranasction amount please: 100\n",
            "Your tranasction amount please: 99.9\n",
            "Your tranasction amount please: 4.8\n",
            "[[[1], 100.0], [[[1], 100.0], 99.9], [[[[1], 100.0], 99.9], 4.8]]\n"
          ]
        }
      ]
    },
    {
      "cell_type": "markdown",
      "source": [
        "### 2.19 Avoiding Repetitive Code Execution"
      ],
      "metadata": {
        "id": "6rS-u_gSbo2j"
      }
    },
    {
      "cell_type": "code",
      "source": [
        "blockchain = []\n",
        "\n",
        "def get_last_blockchain_value():\n",
        "  return blockchain[-1]\n",
        "\n",
        "def add_value(transaction_amount, last_transaction=[1]):\n",
        "  blockchain.append([last_transaction, transaction_amount])\n",
        "\n",
        "def get_user_input():\n",
        "  return float(input('Your tranasction amount please: '))\n",
        "\n",
        "\n",
        "tx_amount = get_user_input()\n",
        "add_value(tx_amount)\n",
        "\n",
        "tx_amount = get_user_input()\n",
        "add_value(last_transaction=get_last_blockchain_value(), transaction_amount=tx_amount)\n",
        "\n",
        "tx_amount =  get_user_input()\n",
        "add_value(tx_amount, get_last_blockchain_value())\n",
        "\n",
        "print(blockchain)"
      ],
      "metadata": {
        "colab": {
          "base_uri": "https://localhost:8080/"
        },
        "id": "3LgaheKhbctl",
        "outputId": "a87aa7cc-296b-414d-e0bd-bd4c54c6ee1d"
      },
      "execution_count": 4,
      "outputs": [
        {
          "output_type": "stream",
          "name": "stdout",
          "text": [
            "Your tranasction amount please: 100\n",
            "Your tranasction amount please: 99.9\n",
            "Your tranasction amount please: 4.8\n",
            "[[[1], 100.0], [[[1], 100.0], 99.9], [[[[1], 100.0], 99.9], 4.8]]\n"
          ]
        }
      ]
    },
    {
      "cell_type": "markdown",
      "source": [
        "### 2.20 Understanding the Variable Scope"
      ],
      "metadata": {
        "id": "PyWOtH-acZfA"
      }
    },
    {
      "cell_type": "code",
      "source": [
        "blockchain = []\n",
        "\n",
        "def get_last_blockchain_value():\n",
        "  return blockchain[-1]\n",
        "\n",
        "def add_value(transaction_amount, last_transaction=[1]):\n",
        "  blockchain.append([last_transaction, transaction_amount])\n",
        "\n",
        "def get_user_input():\n",
        "  return float(input('Your tranasction amount please: '))\n",
        "\n",
        "tx_amount = get_user_input()\n",
        "add_value(tx_amount)\n",
        "\n",
        "print(transaction_amount)\n",
        "\n",
        "tx_amount = get_user_input()\n",
        "add_value(last_transaction=get_last_blockchain_value(), transaction_amount=tx_amount)\n",
        "\n",
        "tx_amount =  get_user_input()\n",
        "add_value(tx_amount, get_last_blockchain_value())\n",
        "\n",
        "print(blockchain)"
      ],
      "metadata": {
        "colab": {
          "base_uri": "https://localhost:8080/",
          "height": 262
        },
        "id": "6Sb8Qz3gcP7a",
        "outputId": "2ed51756-f5f7-4e75-f27b-198e294b9585"
      },
      "execution_count": 9,
      "outputs": [
        {
          "name": "stdout",
          "output_type": "stream",
          "text": [
            "Your tranasction amount please: 10\n"
          ]
        },
        {
          "output_type": "error",
          "ename": "NameError",
          "evalue": "ignored",
          "traceback": [
            "\u001b[0;31m---------------------------------------------------------------------------\u001b[0m",
            "\u001b[0;31mNameError\u001b[0m                                 Traceback (most recent call last)",
            "\u001b[0;32m<ipython-input-9-ef4bb0dcacdb>\u001b[0m in \u001b[0;36m<cell line: 16>\u001b[0;34m()\u001b[0m\n\u001b[1;32m     14\u001b[0m \u001b[0madd_value\u001b[0m\u001b[0;34m(\u001b[0m\u001b[0mtx_amount\u001b[0m\u001b[0;34m)\u001b[0m\u001b[0;34m\u001b[0m\u001b[0;34m\u001b[0m\u001b[0m\n\u001b[1;32m     15\u001b[0m \u001b[0;34m\u001b[0m\u001b[0m\n\u001b[0;32m---> 16\u001b[0;31m \u001b[0mprint\u001b[0m\u001b[0;34m(\u001b[0m\u001b[0mtransaction_amount\u001b[0m\u001b[0;34m)\u001b[0m\u001b[0;34m\u001b[0m\u001b[0;34m\u001b[0m\u001b[0m\n\u001b[0m\u001b[1;32m     17\u001b[0m \u001b[0;34m\u001b[0m\u001b[0m\n\u001b[1;32m     18\u001b[0m \u001b[0mtx_amount\u001b[0m \u001b[0;34m=\u001b[0m \u001b[0mget_user_input\u001b[0m\u001b[0;34m(\u001b[0m\u001b[0;34m)\u001b[0m\u001b[0;34m\u001b[0m\u001b[0;34m\u001b[0m\u001b[0m\n",
            "\u001b[0;31mNameError\u001b[0m: name 'transaction_amount' is not defined"
          ]
        }
      ]
    },
    {
      "cell_type": "code",
      "source": [
        "blockchain = []\n",
        "\n",
        "def get_last_blockchain_value():\n",
        "  return blockchain[-1]\n",
        "\n",
        "def add_value(transaction_amount, last_transaction=[1]):\n",
        "  blockchain.append([last_transaction, transaction_amount])\n",
        "\n",
        "def get_user_input():\n",
        "  user_input = float(input('Your tranasction amount please: '))\n",
        "  return user_input\n",
        "\n",
        "\n",
        "tx_amount = get_user_input()\n",
        "add_value(tx_amount)\n",
        "\n",
        "print(user_input)\n",
        "\n",
        "tx_amount = get_user_input()\n",
        "add_value(last_transaction=get_last_blockchain_value(), transaction_amount=tx_amount)\n",
        "\n",
        "tx_amount =  get_user_input()\n",
        "add_value(tx_amount, get_last_blockchain_value())\n",
        "\n",
        "print(blockchain)"
      ],
      "metadata": {
        "colab": {
          "base_uri": "https://localhost:8080/",
          "height": 262
        },
        "id": "BFPRoVAHdjEP",
        "outputId": "824b52a9-1bff-4710-9539-ce49a556b88f"
      },
      "execution_count": 10,
      "outputs": [
        {
          "name": "stdout",
          "output_type": "stream",
          "text": [
            "Your tranasction amount please: 10\n"
          ]
        },
        {
          "output_type": "error",
          "ename": "NameError",
          "evalue": "ignored",
          "traceback": [
            "\u001b[0;31m---------------------------------------------------------------------------\u001b[0m",
            "\u001b[0;31mNameError\u001b[0m                                 Traceback (most recent call last)",
            "\u001b[0;32m<ipython-input-10-e2ccc1792f49>\u001b[0m in \u001b[0;36m<cell line: 17>\u001b[0;34m()\u001b[0m\n\u001b[1;32m     15\u001b[0m \u001b[0madd_value\u001b[0m\u001b[0;34m(\u001b[0m\u001b[0mtx_amount\u001b[0m\u001b[0;34m)\u001b[0m\u001b[0;34m\u001b[0m\u001b[0;34m\u001b[0m\u001b[0m\n\u001b[1;32m     16\u001b[0m \u001b[0;34m\u001b[0m\u001b[0m\n\u001b[0;32m---> 17\u001b[0;31m \u001b[0mprint\u001b[0m\u001b[0;34m(\u001b[0m\u001b[0muser_input\u001b[0m\u001b[0;34m)\u001b[0m\u001b[0;34m\u001b[0m\u001b[0;34m\u001b[0m\u001b[0m\n\u001b[0m\u001b[1;32m     18\u001b[0m \u001b[0;34m\u001b[0m\u001b[0m\n\u001b[1;32m     19\u001b[0m \u001b[0mtx_amount\u001b[0m \u001b[0;34m=\u001b[0m \u001b[0mget_user_input\u001b[0m\u001b[0;34m(\u001b[0m\u001b[0;34m)\u001b[0m\u001b[0;34m\u001b[0m\u001b[0;34m\u001b[0m\u001b[0m\n",
            "\u001b[0;31mNameError\u001b[0m: name 'user_input' is not defined"
          ]
        }
      ]
    },
    {
      "cell_type": "code",
      "source": [
        "def print_name():\n",
        "  name = 'Max'\n",
        "  print(name)\n",
        "print_name()"
      ],
      "metadata": {
        "colab": {
          "base_uri": "https://localhost:8080/"
        },
        "id": "tzKy5yXGe2_T",
        "outputId": "ede942b5-11a4-49d4-b417-d021c6c5f837"
      },
      "execution_count": 11,
      "outputs": [
        {
          "output_type": "execute_result",
          "data": {
            "text/plain": [
              "<function __main__.print_name()>"
            ]
          },
          "metadata": {},
          "execution_count": 11
        }
      ]
    },
    {
      "cell_type": "code",
      "source": [
        "name = 'Max'\n",
        "def get_name():\n",
        "  name = input('Your name: ')\n",
        "get_name()\n",
        "print(name)"
      ],
      "metadata": {
        "colab": {
          "base_uri": "https://localhost:8080/"
        },
        "id": "elRWuCgJfQz9",
        "outputId": "891b2c5a-33fb-4afd-ae10-a70e3c803da8"
      },
      "execution_count": 13,
      "outputs": [
        {
          "output_type": "stream",
          "name": "stdout",
          "text": [
            "Your name: sfsdf\n",
            "Max\n"
          ]
        }
      ]
    },
    {
      "cell_type": "code",
      "source": [
        "name = 'Max'\n",
        "def get_name():\n",
        "  global name\n",
        "  name = input('Your name: ')\n",
        "\n",
        "get_name()\n",
        "print(name)"
      ],
      "metadata": {
        "colab": {
          "base_uri": "https://localhost:8080/"
        },
        "id": "YhZyZoqnfp6P",
        "outputId": "06afc7ab-bc7c-4e6c-aca1-e1550715b679"
      },
      "execution_count": 14,
      "outputs": [
        {
          "output_type": "stream",
          "name": "stdout",
          "text": [
            "Your name: test\n",
            "test\n"
          ]
        }
      ]
    },
    {
      "cell_type": "markdown",
      "source": [
        "### 2.22 Adding Comments and Doc Strings"
      ],
      "metadata": {
        "id": "lnClDvlshBer"
      }
    },
    {
      "cell_type": "code",
      "source": [
        "# Initializing our blockchain list\n",
        "blockchain = []\n",
        "\n",
        "def get_last_blockchain_value():\n",
        "  \"\"\" Return the last value of the current blockchain. \"\"\"\n",
        "  return blockchain[-1]\n",
        "\n",
        "def add_value(transaction_amount, last_transaction=[1]):\n",
        "  \"\"\" Append a new value as well as the last blockchain value to the blockchain.\n",
        "\n",
        "  Arguments:\n",
        "    :transaction_amount: The amount that should be added.\n",
        "    :last_transaction: The last blockchain transaction (default [1]).\n",
        "  \"\"\"\n",
        "  blockchain.append([last_transaction, transaction_amount])\n",
        "\n",
        "def get_user_input():\n",
        "  \"\"\" Returns the input of the user (a new transaction amount) as float. \"\"\"\n",
        "  user_input = float(input('Your tranasction amount please: '))\n",
        "  return user_input\n",
        "\n",
        "\n",
        "tx_amount = get_user_input()\n",
        "add_value(tx_amount)\n",
        "\n",
        "tx_amount = get_user_input()\n",
        "add_value(last_transaction=get_last_blockchain_value(), transaction_amount=tx_amount)\n",
        "\n",
        "tx_amount =  get_user_input()\n",
        "add_value(tx_amount, get_last_blockchain_value())\n",
        "\n",
        "print(blockchain)"
      ],
      "metadata": {
        "id": "8eYDCOz-gJYn"
      },
      "execution_count": null,
      "outputs": []
    },
    {
      "cell_type": "markdown",
      "source": [
        "### 2.23 Structuring Multi Line Code in Python"
      ],
      "metadata": {
        "id": "y2oxOOuWk10Z"
      }
    },
    {
      "cell_type": "code",
      "source": [
        "# Initializing our blockchain list\n",
        "blockchain = []\n",
        "\n",
        "def get_last_blockchain_value():\n",
        "  \"\"\" Return the last value of the current blockchain. \"\"\"\n",
        "  return blockchain[-1]\n",
        "\n",
        "def add_value(transaction_amount, last_transaction=[1]):\n",
        "  \"\"\" Append a new value as well as the last blockchain value to the blockchain.\n",
        "\n",
        "  Arguments:\n",
        "    :transaction_amount: The amount that should be added.\n",
        "    :last_transaction: The last blockchain transaction (default [1]).\n",
        "  \"\"\"\n",
        "  blockchain.append([last_transaction, transaction_amount])\n",
        "\n",
        "def get_user_input():\n",
        "  \"\"\" Returns the input of the user (a new transaction amount) as float. \"\"\"\n",
        "  user_input = float(input('Your tranasction amount please: '))\n",
        "  return user_input\n",
        "\n",
        "\n",
        "tx_amount = get_user_input()\n",
        "add_value(tx_amount)\n",
        "\n",
        "tx_amount = get_user_input()\n",
        "add_value(last_transaction=get_last_blockchain_value(),\n",
        "          transaction_amount=tx_amount)\n",
        "\n",
        "tx_amount =  get_user_input()\n",
        "add_value(tx_amount, get_last_blockchain_value())\n",
        "\n",
        "print(blockchain)"
      ],
      "metadata": {
        "id": "gItPspMsk5IH"
      },
      "execution_count": null,
      "outputs": []
    },
    {
      "cell_type": "markdown",
      "source": [
        "## Section 3: Working with Loops & Conditionals"
      ],
      "metadata": {
        "id": "3yWpQhZMlldu"
      }
    },
    {
      "cell_type": "code",
      "source": [],
      "metadata": {
        "id": "qSPAqOQ7p59d"
      },
      "execution_count": null,
      "outputs": []
    }
  ]
}