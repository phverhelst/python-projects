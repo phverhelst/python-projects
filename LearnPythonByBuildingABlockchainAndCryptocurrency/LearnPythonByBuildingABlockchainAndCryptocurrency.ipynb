{
  "nbformat": 4,
  "nbformat_minor": 0,
  "metadata": {
    "colab": {
      "provenance": [],
      "collapsed_sections": [
        "dnHa0yz5n2pm",
        "B10WZKPWoH5i",
        "YbJ4ZfLqq9Ao",
        "YsOZ45aNrZaN",
        "kX-DVjeEu-VN",
        "y2n2dNUg5_ml",
        "RxhfrpZlHaw_",
        "JSAqIO9kJi6A",
        "_QW8J7sVL2al",
        "HnbIjOeFM9uF",
        "VG4-oAVCXG_1",
        "C1O_Xr3NbxpO",
        "TXH_1bzsf1Zp",
        "c0w4mB1Aiq9t",
        "KHq4oZauo6LD",
        "sqyh8fZYwBU7",
        "6rS-u_gSbo2j",
        "PyWOtH-acZfA",
        "lnClDvlshBer",
        "y2oxOOuWk10Z"
      ],
      "authorship_tag": "ABX9TyM4h++yYnIIqyRv/9sa+2MN",
      "include_colab_link": true
    },
    "kernelspec": {
      "name": "python3",
      "display_name": "Python 3"
    },
    "language_info": {
      "name": "python"
    }
  },
  "cells": [
    {
      "cell_type": "markdown",
      "metadata": {
        "id": "view-in-github",
        "colab_type": "text"
      },
      "source": [
        "<a href=\"https://colab.research.google.com/github/phverhelst/python-projects/blob/main/LearnPythonByBuildingABlockchainAndCryptocurrency/LearnPythonByBuildingABlockchainAndCryptocurrency.ipynb\" target=\"_parent\"><img src=\"https://colab.research.google.com/assets/colab-badge.svg\" alt=\"Open In Colab\"/></a>"
      ]
    },
    {
      "cell_type": "markdown",
      "source": [
        "# Learn Python by Building a Blockchain and Cryptocurrency\n",
        "\n"
      ],
      "metadata": {
        "id": "-ZK57XTtn_uU"
      }
    },
    {
      "cell_type": "markdown",
      "source": [
        "## Section 1: Getting Started"
      ],
      "metadata": {
        "id": "dnHa0yz5n2pm"
      }
    },
    {
      "cell_type": "markdown",
      "source": [
        "### 1.3 Setting Up Python?"
      ],
      "metadata": {
        "id": "xw7sXQNH9uPc"
      }
    },
    {
      "cell_type": "code",
      "execution_count": null,
      "metadata": {
        "id": "TH3vapt9PyUb"
      },
      "outputs": [],
      "source": [
        "2+2"
      ]
    },
    {
      "cell_type": "markdown",
      "source": [
        "### 1.4 Writing our First Python Code"
      ],
      "metadata": {
        "id": "BrXozOca951L"
      }
    },
    {
      "cell_type": "code",
      "source": [
        "input('Please enter your name: ')"
      ],
      "metadata": {
        "id": "dVDcvZyhRa9M"
      },
      "execution_count": null,
      "outputs": []
    },
    {
      "cell_type": "code",
      "source": [
        "my_name = input('Please enter your name: ')\n",
        "my_name"
      ],
      "metadata": {
        "id": "ZDV0KeOtRd2T"
      },
      "execution_count": null,
      "outputs": []
    },
    {
      "cell_type": "code",
      "source": [
        "file = open('name.txt', mode='w')\n",
        "file"
      ],
      "metadata": {
        "id": "bPohy579RjQq"
      },
      "execution_count": null,
      "outputs": []
    },
    {
      "cell_type": "code",
      "source": [
        "file.write(my_name)\n",
        "file.close()"
      ],
      "metadata": {
        "id": "2xnKRPN1RuRQ"
      },
      "execution_count": null,
      "outputs": []
    },
    {
      "cell_type": "code",
      "source": [
        "file = open('name.txt', mode='r')\n",
        "file.read()"
      ],
      "metadata": {
        "id": "fbneQEACSM6Y"
      },
      "execution_count": null,
      "outputs": []
    },
    {
      "cell_type": "markdown",
      "source": [
        "## Section 2: Diving Into the Basics of Python"
      ],
      "metadata": {
        "id": "B10WZKPWoH5i"
      }
    },
    {
      "cell_type": "markdown",
      "source": [
        "### 2.3 Working with Variables"
      ],
      "metadata": {
        "id": "YbJ4ZfLqq9Ao"
      }
    },
    {
      "cell_type": "code",
      "source": [
        "2"
      ],
      "metadata": {
        "id": "XSOEDwornDBK"
      },
      "execution_count": null,
      "outputs": []
    },
    {
      "cell_type": "code",
      "source": [
        "age = 29\n",
        "age"
      ],
      "metadata": {
        "id": "WQyb0KPvnHIR"
      },
      "execution_count": null,
      "outputs": []
    },
    {
      "cell_type": "code",
      "source": [
        "age = 30\n",
        "age"
      ],
      "metadata": {
        "id": "aEeXYw-enZ28"
      },
      "execution_count": null,
      "outputs": []
    },
    {
      "cell_type": "code",
      "source": [],
      "metadata": {
        "id": "6_fxHs8Knb5c"
      },
      "execution_count": null,
      "outputs": []
    },
    {
      "cell_type": "code",
      "source": [
        "age = age - 1\n",
        "age"
      ],
      "metadata": {
        "id": "9essoh_8nc8U"
      },
      "execution_count": null,
      "outputs": []
    },
    {
      "cell_type": "code",
      "source": [
        "age = 29.5\n",
        "age"
      ],
      "metadata": {
        "id": "arARJAgDnjpa"
      },
      "execution_count": null,
      "outputs": []
    },
    {
      "cell_type": "code",
      "source": [
        "is_old = True\n",
        "is_old"
      ],
      "metadata": {
        "id": "4-z44mGGnkw6"
      },
      "execution_count": null,
      "outputs": []
    },
    {
      "cell_type": "code",
      "source": [
        "name = 'Max'\n",
        "name"
      ],
      "metadata": {
        "id": "3kOn81Ijn1Mt"
      },
      "execution_count": null,
      "outputs": []
    },
    {
      "cell_type": "code",
      "source": [],
      "metadata": {
        "id": "Kzsf60J0n2SN"
      },
      "execution_count": null,
      "outputs": []
    },
    {
      "cell_type": "markdown",
      "source": [
        "### 2.4 Working with Numbers"
      ],
      "metadata": {
        "id": "YsOZ45aNrZaN"
      }
    },
    {
      "cell_type": "code",
      "source": [
        "age = '29'\n",
        "age + 1"
      ],
      "metadata": {
        "id": "H1mPGBXerjaZ"
      },
      "execution_count": null,
      "outputs": []
    },
    {
      "cell_type": "code",
      "source": [
        "1"
      ],
      "metadata": {
        "id": "NV5nRVXDruq0"
      },
      "execution_count": null,
      "outputs": []
    },
    {
      "cell_type": "code",
      "source": [
        "age + '1'"
      ],
      "metadata": {
        "id": "gbA4JAsEryFD"
      },
      "execution_count": null,
      "outputs": []
    },
    {
      "cell_type": "code",
      "source": [
        "'Hello ' + 'World'"
      ],
      "metadata": {
        "id": "HgiT1QXRr0h6"
      },
      "execution_count": null,
      "outputs": []
    },
    {
      "cell_type": "code",
      "source": [
        "int(age) + 1"
      ],
      "metadata": {
        "id": "s8YH9_IXr4la"
      },
      "execution_count": null,
      "outputs": []
    },
    {
      "cell_type": "code",
      "source": [
        "int('hello')"
      ],
      "metadata": {
        "id": "1FRkR2wmr65x"
      },
      "execution_count": null,
      "outputs": []
    },
    {
      "cell_type": "code",
      "source": [
        "int(1.5)"
      ],
      "metadata": {
        "id": "TmFlcwPPsKg1"
      },
      "execution_count": null,
      "outputs": []
    },
    {
      "cell_type": "code",
      "source": [
        "int(1.8)"
      ],
      "metadata": {
        "id": "ystDyEBnsNo8"
      },
      "execution_count": null,
      "outputs": []
    },
    {
      "cell_type": "code",
      "source": [
        "int(True)"
      ],
      "metadata": {
        "id": "24OTDrA6sPbQ"
      },
      "execution_count": null,
      "outputs": []
    },
    {
      "cell_type": "code",
      "source": [
        "int(False)"
      ],
      "metadata": {
        "id": "ReulwlLgsUNT"
      },
      "execution_count": null,
      "outputs": []
    },
    {
      "cell_type": "code",
      "source": [
        "int(-1.5)"
      ],
      "metadata": {
        "id": "5yU-GBNjsVd7"
      },
      "execution_count": null,
      "outputs": []
    },
    {
      "cell_type": "code",
      "source": [
        "age = '29'\n",
        "float(age)"
      ],
      "metadata": {
        "id": "k5mcTQCpsas6"
      },
      "execution_count": null,
      "outputs": []
    },
    {
      "cell_type": "code",
      "source": [
        "float(age) + 1"
      ],
      "metadata": {
        "id": "Q-e6XhZHuG-5"
      },
      "execution_count": null,
      "outputs": []
    },
    {
      "cell_type": "code",
      "source": [
        "float(True)"
      ],
      "metadata": {
        "id": "fe9O_oCouLfI"
      },
      "execution_count": null,
      "outputs": []
    },
    {
      "cell_type": "code",
      "source": [
        "float(False)"
      ],
      "metadata": {
        "id": "tphrcuqAuNFA"
      },
      "execution_count": null,
      "outputs": []
    },
    {
      "cell_type": "code",
      "source": [
        "fans = 1000000\n",
        "fans"
      ],
      "metadata": {
        "id": "mTzIhHdauO_H"
      },
      "execution_count": null,
      "outputs": []
    },
    {
      "cell_type": "code",
      "source": [
        "fans  = 1_000_000\n",
        "fans"
      ],
      "metadata": {
        "id": "du-Qf6fXupxc"
      },
      "execution_count": null,
      "outputs": []
    },
    {
      "cell_type": "code",
      "source": [
        "fans = 1_000_000\n",
        "fans + 1"
      ],
      "metadata": {
        "id": "mQPFyfyUuvVD"
      },
      "execution_count": null,
      "outputs": []
    },
    {
      "cell_type": "markdown",
      "source": [
        "### 2.5 Using Operators"
      ],
      "metadata": {
        "id": "kX-DVjeEu-VN"
      }
    },
    {
      "cell_type": "code",
      "source": [
        "\"Hello \" + \"World\""
      ],
      "metadata": {
        "id": "i02WKNPYu0I6"
      },
      "execution_count": null,
      "outputs": []
    },
    {
      "cell_type": "code",
      "source": [
        "greeting = \"Hello \" + \"World\"\n",
        "greeting"
      ],
      "metadata": {
        "id": "dbfKnK9s5kDQ"
      },
      "execution_count": null,
      "outputs": []
    },
    {
      "cell_type": "code",
      "source": [
        "\"Hello \" * \"World\""
      ],
      "metadata": {
        "id": "i5CH5L9E5qmQ"
      },
      "execution_count": null,
      "outputs": []
    },
    {
      "cell_type": "code",
      "source": [
        "\"hello\" * 10"
      ],
      "metadata": {
        "id": "xWL-g5un5viv"
      },
      "execution_count": null,
      "outputs": []
    },
    {
      "cell_type": "code",
      "source": [
        "\"-\" * 30"
      ],
      "metadata": {
        "id": "aJrvSKfz5xsP"
      },
      "execution_count": null,
      "outputs": []
    },
    {
      "cell_type": "markdown",
      "source": [
        "### 2.6 Understanding a \"Special\" Behavior when Working with Numbers"
      ],
      "metadata": {
        "id": "y2n2dNUg5_ml"
      }
    },
    {
      "cell_type": "code",
      "source": [
        "1e10"
      ],
      "metadata": {
        "id": "OLf2zVuc5133"
      },
      "execution_count": null,
      "outputs": []
    },
    {
      "cell_type": "code",
      "source": [
        "1e6"
      ],
      "metadata": {
        "id": "zOj2zetKGFWS"
      },
      "execution_count": null,
      "outputs": []
    },
    {
      "cell_type": "code",
      "source": [
        "1 - 0.9"
      ],
      "metadata": {
        "id": "L10YmHTyGG8w"
      },
      "execution_count": null,
      "outputs": []
    },
    {
      "cell_type": "code",
      "source": [
        "1 - 0.5"
      ],
      "metadata": {
        "id": "q0E3BK6RGKTf"
      },
      "execution_count": null,
      "outputs": []
    },
    {
      "cell_type": "code",
      "source": [
        "1 / 2"
      ],
      "metadata": {
        "id": "hBpx-M9TGhol"
      },
      "execution_count": null,
      "outputs": []
    },
    {
      "cell_type": "code",
      "source": [
        "1 - 0.9 - 0.1"
      ],
      "metadata": {
        "id": "1Rq-IKlZGlKF"
      },
      "execution_count": null,
      "outputs": []
    },
    {
      "cell_type": "markdown",
      "source": [
        "### 2.7 Working with Strings"
      ],
      "metadata": {
        "id": "RxhfrpZlHaw_"
      }
    },
    {
      "cell_type": "code",
      "source": [
        " name = \"Max'"
      ],
      "metadata": {
        "id": "6VCV7DzQGt1j"
      },
      "execution_count": null,
      "outputs": []
    },
    {
      "cell_type": "code",
      "source": [
        "name = \"I'm pretty cool!\""
      ],
      "metadata": {
        "id": "m208J828H89M"
      },
      "execution_count": null,
      "outputs": []
    },
    {
      "cell_type": "code",
      "source": [
        "name = 'I'm pretty cool'"
      ],
      "metadata": {
        "id": "sajdpBXyIOV4"
      },
      "execution_count": null,
      "outputs": []
    },
    {
      "cell_type": "code",
      "source": [
        "name = 'I\\'m pretty cool!'\n",
        "name"
      ],
      "metadata": {
        "id": "dLkJrRUpIW23"
      },
      "execution_count": null,
      "outputs": []
    },
    {
      "cell_type": "code",
      "source": [
        "longer_text = \"\"\"you can add your text\"\"\"\n",
        "longer_text = \"\"\"you can add your text\n",
        "wich can span multiple lines\n",
        "!!!\"\"\"\n",
        "longer_text"
      ],
      "metadata": {
        "id": "UH-eD_XAIfit"
      },
      "execution_count": null,
      "outputs": []
    },
    {
      "cell_type": "markdown",
      "source": [
        "### 2.8 Working with Lists"
      ],
      "metadata": {
        "id": "JSAqIO9kJi6A"
      }
    },
    {
      "cell_type": "code",
      "source": [
        "blockchain = [1, 8.6, 5.1]\n",
        "blockchain"
      ],
      "metadata": {
        "id": "4AxDtbFoI-Hb"
      },
      "execution_count": null,
      "outputs": []
    },
    {
      "cell_type": "code",
      "source": [
        "blockchain[1]"
      ],
      "metadata": {
        "id": "-vqSc3BwLWRD"
      },
      "execution_count": null,
      "outputs": []
    },
    {
      "cell_type": "code",
      "source": [
        "blockchain[1] +2"
      ],
      "metadata": {
        "id": "lh0MmzLILZWf"
      },
      "execution_count": null,
      "outputs": []
    },
    {
      "cell_type": "code",
      "source": [
        "blockchain"
      ],
      "metadata": {
        "id": "tR8byD-oLh3H"
      },
      "execution_count": null,
      "outputs": []
    },
    {
      "cell_type": "markdown",
      "source": [
        "### 2.9 Adding & Removing List Items"
      ],
      "metadata": {
        "id": "_QW8J7sVL2al"
      }
    },
    {
      "cell_type": "code",
      "source": [
        "blockchain = [ 1, 8.6, 5.1, 10]\n",
        "blockchain"
      ],
      "metadata": {
        "id": "dJzauDG7Ljue"
      },
      "execution_count": null,
      "outputs": []
    },
    {
      "cell_type": "code",
      "source": [
        "blockchain.append(3)\n",
        "blockchain"
      ],
      "metadata": {
        "id": "I2Y7g_hTMLaL"
      },
      "execution_count": null,
      "outputs": []
    },
    {
      "cell_type": "code",
      "source": [
        "blockchain.pop()"
      ],
      "metadata": {
        "id": "n3HMnO31MSva"
      },
      "execution_count": null,
      "outputs": []
    },
    {
      "cell_type": "code",
      "source": [
        "blockchain"
      ],
      "metadata": {
        "id": "1hhH6o3MMaH3"
      },
      "execution_count": null,
      "outputs": []
    },
    {
      "cell_type": "markdown",
      "source": [
        "### 2.12 Using Functions to Add List Items"
      ],
      "metadata": {
        "id": "HnbIjOeFM9uF"
      }
    },
    {
      "cell_type": "code",
      "source": [
        "blockchain = []\n",
        "\n",
        "def add_value():\n",
        "  blockchain.append(5.3)\n",
        "  print(blockchain)\n",
        "\n",
        "add_value()\n"
      ],
      "metadata": {
        "id": "JOQkVBB-MuM9"
      },
      "execution_count": null,
      "outputs": []
    },
    {
      "cell_type": "code",
      "source": [
        "add_value()"
      ],
      "metadata": {
        "id": "dFXNmlqnUHAn"
      },
      "execution_count": null,
      "outputs": []
    },
    {
      "cell_type": "code",
      "source": [
        "add_value()"
      ],
      "metadata": {
        "id": "w4GWkZ5qUQ-z"
      },
      "execution_count": null,
      "outputs": []
    },
    {
      "cell_type": "code",
      "source": [
        "blockchain = []\n",
        "\n",
        "def add_value():\n",
        "  blockchain.append([blockchain[0], 5.3])\n",
        "  print(blockchain)\n",
        "\n",
        "add_value()"
      ],
      "metadata": {
        "id": "jVZPk9rKUVva"
      },
      "execution_count": null,
      "outputs": []
    },
    {
      "cell_type": "code",
      "source": [
        "blockchain = [1]\n",
        "def add_value():\n",
        "  blockchain.append([blockchain[0], 5.3])\n",
        "  print(blockchain)\n",
        "\n",
        "add_value()"
      ],
      "metadata": {
        "id": "tkXbLXJyVfsB"
      },
      "execution_count": null,
      "outputs": []
    },
    {
      "cell_type": "code",
      "source": [
        "add_value()"
      ],
      "metadata": {
        "id": "rX_ZV-1-VsCg"
      },
      "execution_count": null,
      "outputs": []
    },
    {
      "cell_type": "code",
      "source": [
        "add_value()"
      ],
      "metadata": {
        "id": "WVtHR-vyWUhc"
      },
      "execution_count": null,
      "outputs": []
    },
    {
      "cell_type": "markdown",
      "source": [
        "### 2.13 Accessing the Last List Item  "
      ],
      "metadata": {
        "id": "VG4-oAVCXG_1"
      }
    },
    {
      "cell_type": "code",
      "source": [
        "blockchain = [1]\n",
        "\n",
        "def add_value():\n",
        "  blockchain.append([blockchain[-1], 5.3])\n",
        "  print(blockchain)\n",
        "\n",
        "add_value()\n",
        "add_value()\n",
        "add_value()"
      ],
      "metadata": {
        "id": "YqQESCpzWXxa"
      },
      "execution_count": null,
      "outputs": []
    },
    {
      "cell_type": "code",
      "source": [
        "blockchain = [[1]]\n",
        "\n",
        "def add_value():\n",
        "  blockchain.append([blockchain[-1], 5.3])\n",
        "  print(blockchain)\n",
        "\n",
        "add_value()\n",
        "add_value()\n",
        "add_value()"
      ],
      "metadata": {
        "id": "jiAfyoiMYjEr"
      },
      "execution_count": null,
      "outputs": []
    },
    {
      "cell_type": "code",
      "source": [
        "print(blockchain[0])\n",
        "print(blockchain[1])\n",
        "print(blockchain[2])\n",
        "print(blockchain[3])\n",
        "print(blockchain[4])"
      ],
      "metadata": {
        "id": "kupDT0zNYl1E"
      },
      "execution_count": null,
      "outputs": []
    },
    {
      "cell_type": "markdown",
      "source": [
        "### 2.14 Adding Arguments to Functions"
      ],
      "metadata": {
        "id": "C1O_Xr3NbxpO"
      }
    },
    {
      "cell_type": "code",
      "source": [
        "blockchain = [[1]]\n",
        "\n",
        "def add_value(transaction_amount):\n",
        "  blockchain.append([blockchain[-1], transaction_amount])\n",
        "  print(blockchain)\n",
        "\n",
        "add_value()\n",
        "add_value()\n",
        "add_value()"
      ],
      "metadata": {
        "id": "w3os_GbiaRl8"
      },
      "execution_count": null,
      "outputs": []
    },
    {
      "cell_type": "code",
      "source": [
        "blockchain = [[1]]\n",
        "\n",
        "def add_value(transaction_amount):\n",
        "  blockchain.append([blockchain[-1], transaction_amount])\n",
        "  print(blockchain)\n",
        "\n",
        "add_value(2)\n",
        "add_value(0.9)\n",
        "add_value(10.89)"
      ],
      "metadata": {
        "id": "ARWeuRECfIyE"
      },
      "execution_count": null,
      "outputs": []
    },
    {
      "cell_type": "markdown",
      "source": [
        "### 2.15 Understanding the \"return\" Keyword"
      ],
      "metadata": {
        "id": "TXH_1bzsf1Zp"
      }
    },
    {
      "cell_type": "code",
      "source": [
        "blockchain = [[1]]\n",
        "\n",
        "def get_last_blockchain_value():\n",
        "  return blockchain[-1]\n",
        "\n",
        "def add_value(transaction_amount):\n",
        "  blockchain.append([get_last_blockchain_value(), transaction_amount])\n",
        "\n",
        "add_value(2)\n",
        "add_value(0.9)\n",
        "add_value(10.89)\n",
        "\n",
        "print(blockchain)"
      ],
      "metadata": {
        "id": "bFOIr2EHfM5e"
      },
      "execution_count": null,
      "outputs": []
    },
    {
      "cell_type": "markdown",
      "source": [
        "### 2.16 Using Default Arguments"
      ],
      "metadata": {
        "id": "c0w4mB1Aiq9t"
      }
    },
    {
      "cell_type": "code",
      "source": [
        "blockchain = []\n",
        "\n",
        "def get_last_blockchain_value():\n",
        "  return blockchain[-1]\n",
        "\n",
        "def add_value(transaction_amount):\n",
        "  blockchain.append([get_last_blockchain_value(), transaction_amount])\n",
        "\n",
        "add_value(2)\n",
        "add_value(0.9)\n",
        "add_value(10.89)\n",
        "\n",
        "print(blockchain)"
      ],
      "metadata": {
        "id": "jXClcmeZhLUG"
      },
      "execution_count": null,
      "outputs": []
    },
    {
      "cell_type": "code",
      "source": [
        "blockchain = []\n",
        "\n",
        "def get_last_blockchain_value():\n",
        "  return blockchain[-1]\n",
        "\n",
        "def add_value(transaction_amount, last_transaction=get_last_blockchain_value()):\n",
        "  blockchain.append([last_transaction, transaction_amount])\n",
        "\n",
        "add_value(2, [1])\n",
        "add_value(0.9)\n",
        "add_value(10.89)\n",
        "\n",
        "print(blockchain)"
      ],
      "metadata": {
        "id": "4gJSbG3CkEBf"
      },
      "execution_count": null,
      "outputs": []
    },
    {
      "cell_type": "code",
      "source": [
        "blockchain = []\n",
        "\n",
        "def get_last_blockchain_value():\n",
        "  return blockchain[-1]\n",
        "\n",
        "def add_value(transaction_amount, last_transaction=[1]):\n",
        "  blockchain.append([last_transaction, transaction_amount])\n",
        "\n",
        "add_value(2, [1])\n",
        "add_value(0.9, get_last_blockchain_value())\n",
        "add_value(10.89, get_last_blockchain_value())\n",
        "\n",
        "print(blockchain)"
      ],
      "metadata": {
        "id": "Q0os7SH6mtM4"
      },
      "execution_count": null,
      "outputs": []
    },
    {
      "cell_type": "markdown",
      "source": [
        "### 2.17 Working with Keyword Arguments"
      ],
      "metadata": {
        "id": "KHq4oZauo6LD"
      }
    },
    {
      "cell_type": "code",
      "source": [
        "blockchain = []\n",
        "\n",
        "def get_last_blockchain_value():\n",
        "  return blockchain[-1]\n",
        "\n",
        "def add_value(transaction_amount, last_transaction=[1]):\n",
        "  blockchain.append([last_transaction, transaction_amount])\n",
        "\n",
        "add_value(2, [1])\n",
        "add_value(get_last_blockchain_value(), 0.9)\n",
        "add_value(10.89, get_last_blockchain_value())\n",
        "\n",
        "print(blockchain)"
      ],
      "metadata": {
        "id": "C0ZM4qouniVd"
      },
      "execution_count": null,
      "outputs": []
    },
    {
      "cell_type": "code",
      "source": [
        "blockchain = []\n",
        "\n",
        "def get_last_blockchain_value():\n",
        "  return blockchain[-1]\n",
        "\n",
        "def add_value(transaction_amount, last_transaction=[1]):\n",
        "  blockchain.append([last_transaction, transaction_amount])\n",
        "\n",
        "add_value(2, [1])\n",
        "add_value(last_transaction=get_last_blockchain_value(), transaction_amount=0.9)\n",
        "add_value(10.89, get_last_blockchain_value())\n",
        "\n",
        "print(blockchain)"
      ],
      "metadata": {
        "id": "naKHT3x7vXUV"
      },
      "execution_count": null,
      "outputs": []
    },
    {
      "cell_type": "markdown",
      "source": [
        "### 2.18 Using the \"input\" Function"
      ],
      "metadata": {
        "id": "sqyh8fZYwBU7"
      }
    },
    {
      "cell_type": "code",
      "source": [
        "blockchain = []\n",
        "\n",
        "def get_last_blockchain_value():\n",
        "  return blockchain[-1]\n",
        "\n",
        "def add_value(transaction_amount, last_transaction=[1]):\n",
        "  blockchain.append([last_transaction, transaction_amount])\n",
        "\n",
        "tx_amount = input('Your tranasction amount please: ')\n",
        "add_value(tx_amount)\n",
        "add_value(last_transaction=get_last_blockchain_value(), transaction_amount=0.9)\n",
        "add_value(10.89, get_last_blockchain_value())\n",
        "\n",
        "print(blockchain)"
      ],
      "metadata": {
        "id": "_agG_yU5wFCX"
      },
      "execution_count": null,
      "outputs": []
    },
    {
      "cell_type": "code",
      "source": [
        "blockchain = []\n",
        "\n",
        "def get_last_blockchain_value():\n",
        "  return blockchain[-1]\n",
        "\n",
        "def add_value(transaction_amount, last_transaction=[1]):\n",
        "  blockchain.append([last_transaction, transaction_amount])\n",
        "\n",
        "tx_amount = float(input('Your tranasction amount please: '))\n",
        "add_value(tx_amount)\n",
        "add_value(last_transaction=get_last_blockchain_value(), transaction_amount=0.9)\n",
        "add_value(10.89, get_last_blockchain_value())\n",
        "\n",
        "print(blockchain)"
      ],
      "metadata": {
        "id": "e7JQw_OUau-Q"
      },
      "execution_count": null,
      "outputs": []
    },
    {
      "cell_type": "code",
      "source": [
        "blockchain = []\n",
        "\n",
        "def get_last_blockchain_value():\n",
        "  return blockchain[-1]\n",
        "\n",
        "def add_value(transaction_amount, last_transaction=[1]):\n",
        "  blockchain.append([last_transaction, transaction_amount])\n",
        "\n",
        "tx_amount = float(input('Your tranasction amount please: '))\n",
        "add_value(tx_amount)\n",
        "\n",
        "tx_amount = float(input('Your tranasction amount please: '))\n",
        "add_value(last_transaction=get_last_blockchain_value(), transaction_amount=tx_amount)\n",
        "\n",
        "tx_amount = float(input('Your tranasction amount please: '))\n",
        "add_value(tx_amount, get_last_blockchain_value())\n",
        "\n",
        "print(blockchain)"
      ],
      "metadata": {
        "id": "t1UwFnMNayTP"
      },
      "execution_count": null,
      "outputs": []
    },
    {
      "cell_type": "markdown",
      "source": [
        "### 2.19 Avoiding Repetitive Code Execution"
      ],
      "metadata": {
        "id": "6rS-u_gSbo2j"
      }
    },
    {
      "cell_type": "code",
      "source": [
        "blockchain = []\n",
        "\n",
        "def get_last_blockchain_value():\n",
        "  return blockchain[-1]\n",
        "\n",
        "def add_value(transaction_amount, last_transaction=[1]):\n",
        "  blockchain.append([last_transaction, transaction_amount])\n",
        "\n",
        "def get_user_input():\n",
        "  return float(input('Your tranasction amount please: '))\n",
        "\n",
        "\n",
        "tx_amount = get_user_input()\n",
        "add_value(tx_amount)\n",
        "\n",
        "tx_amount = get_user_input()\n",
        "add_value(last_transaction=get_last_blockchain_value(), transaction_amount=tx_amount)\n",
        "\n",
        "tx_amount =  get_user_input()\n",
        "add_value(tx_amount, get_last_blockchain_value())\n",
        "\n",
        "print(blockchain)"
      ],
      "metadata": {
        "id": "3LgaheKhbctl"
      },
      "execution_count": null,
      "outputs": []
    },
    {
      "cell_type": "markdown",
      "source": [
        "### 2.20 Understanding the Variable Scope"
      ],
      "metadata": {
        "id": "PyWOtH-acZfA"
      }
    },
    {
      "cell_type": "code",
      "source": [
        "blockchain = []\n",
        "\n",
        "def get_last_blockchain_value():\n",
        "  return blockchain[-1]\n",
        "\n",
        "def add_value(transaction_amount, last_transaction=[1]):\n",
        "  blockchain.append([last_transaction, transaction_amount])\n",
        "\n",
        "def get_user_input():\n",
        "  return float(input('Your tranasction amount please: '))\n",
        "\n",
        "tx_amount = get_user_input()\n",
        "add_value(tx_amount)\n",
        "\n",
        "print(transaction_amount)\n",
        "\n",
        "tx_amount = get_user_input()\n",
        "add_value(last_transaction=get_last_blockchain_value(), transaction_amount=tx_amount)\n",
        "\n",
        "tx_amount =  get_user_input()\n",
        "add_value(tx_amount, get_last_blockchain_value())\n",
        "\n",
        "print(blockchain)"
      ],
      "metadata": {
        "id": "6Sb8Qz3gcP7a"
      },
      "execution_count": null,
      "outputs": []
    },
    {
      "cell_type": "code",
      "source": [
        "blockchain = []\n",
        "\n",
        "def get_last_blockchain_value():\n",
        "  return blockchain[-1]\n",
        "\n",
        "def add_value(transaction_amount, last_transaction=[1]):\n",
        "  blockchain.append([last_transaction, transaction_amount])\n",
        "\n",
        "def get_user_input():\n",
        "  user_input = float(input('Your tranasction amount please: '))\n",
        "  return user_input\n",
        "\n",
        "\n",
        "tx_amount = get_user_input()\n",
        "add_value(tx_amount)\n",
        "\n",
        "print(user_input)\n",
        "\n",
        "tx_amount = get_user_input()\n",
        "add_value(last_transaction=get_last_blockchain_value(), transaction_amount=tx_amount)\n",
        "\n",
        "tx_amount =  get_user_input()\n",
        "add_value(tx_amount, get_last_blockchain_value())\n",
        "\n",
        "print(blockchain)"
      ],
      "metadata": {
        "id": "BFPRoVAHdjEP"
      },
      "execution_count": null,
      "outputs": []
    },
    {
      "cell_type": "code",
      "source": [
        "def print_name():\n",
        "  name = 'Max'\n",
        "  print(name)\n",
        "print_name()"
      ],
      "metadata": {
        "id": "tzKy5yXGe2_T"
      },
      "execution_count": null,
      "outputs": []
    },
    {
      "cell_type": "code",
      "source": [
        "name = 'Max'\n",
        "def get_name():\n",
        "  name = input('Your name: ')\n",
        "get_name()\n",
        "print(name)"
      ],
      "metadata": {
        "id": "elRWuCgJfQz9"
      },
      "execution_count": null,
      "outputs": []
    },
    {
      "cell_type": "code",
      "source": [
        "name = 'Max'\n",
        "def get_name():\n",
        "  global name\n",
        "  name = input('Your name: ')\n",
        "\n",
        "get_name()\n",
        "print(name)"
      ],
      "metadata": {
        "id": "YhZyZoqnfp6P"
      },
      "execution_count": null,
      "outputs": []
    },
    {
      "cell_type": "markdown",
      "source": [
        "### 2.22 Adding Comments and Doc Strings"
      ],
      "metadata": {
        "id": "lnClDvlshBer"
      }
    },
    {
      "cell_type": "code",
      "source": [
        "# Initializing our blockchain list\n",
        "blockchain = []\n",
        "\n",
        "def get_last_blockchain_value():\n",
        "  \"\"\" Return the last value of the current blockchain. \"\"\"\n",
        "  return blockchain[-1]\n",
        "\n",
        "def add_value(transaction_amount, last_transaction=[1]):\n",
        "  \"\"\" Append a new value as well as the last blockchain value to the blockchain.\n",
        "\n",
        "  Arguments:\n",
        "    :transaction_amount: The amount that should be added.\n",
        "    :last_transaction: The last blockchain transaction (default [1]).\n",
        "  \"\"\"\n",
        "  blockchain.append([last_transaction, transaction_amount])\n",
        "\n",
        "def get_user_input():\n",
        "  \"\"\" Returns the input of the user (a new transaction amount) as float. \"\"\"\n",
        "  user_input = float(input('Your tranasction amount please: '))\n",
        "  return user_input\n",
        "\n",
        "\n",
        "tx_amount = get_user_input()\n",
        "add_value(tx_amount)\n",
        "\n",
        "tx_amount = get_user_input()\n",
        "add_value(last_transaction=get_last_blockchain_value(), transaction_amount=tx_amount)\n",
        "\n",
        "tx_amount =  get_user_input()\n",
        "add_value(tx_amount, get_last_blockchain_value())\n",
        "\n",
        "print(blockchain)"
      ],
      "metadata": {
        "id": "8eYDCOz-gJYn"
      },
      "execution_count": null,
      "outputs": []
    },
    {
      "cell_type": "markdown",
      "source": [
        "### 2.23 Structuring Multi Line Code in Python"
      ],
      "metadata": {
        "id": "y2oxOOuWk10Z"
      }
    },
    {
      "cell_type": "code",
      "source": [
        "# Initializing our blockchain list\n",
        "blockchain = []\n",
        "\n",
        "def get_last_blockchain_value():\n",
        "  \"\"\" Return the last value of the current blockchain. \"\"\"\n",
        "  return blockchain[-1]\n",
        "\n",
        "def add_value(transaction_amount, last_transaction=[1]):\n",
        "  \"\"\" Append a new value as well as the last blockchain value to the blockchain.\n",
        "\n",
        "  Arguments:\n",
        "    :transaction_amount: The amount that should be added.\n",
        "    :last_transaction: The last blockchain transaction (default [1]).\n",
        "  \"\"\"\n",
        "  blockchain.append([last_transaction, transaction_amount])\n",
        "\n",
        "def get_user_input():\n",
        "  \"\"\" Returns the input of the user (a new transaction amount) as float. \"\"\"\n",
        "  user_input = float(input('Your tranasction amount please: '))\n",
        "  return user_input\n",
        "\n",
        "\n",
        "tx_amount = get_user_input()\n",
        "add_value(tx_amount)\n",
        "\n",
        "tx_amount = get_user_input()\n",
        "add_value(last_transaction=get_last_blockchain_value(),\n",
        "          transaction_amount=tx_amount)\n",
        "\n",
        "tx_amount =  get_user_input()\n",
        "add_value(tx_amount, get_last_blockchain_value())\n",
        "\n",
        "print(blockchain)"
      ],
      "metadata": {
        "id": "gItPspMsk5IH"
      },
      "execution_count": null,
      "outputs": []
    },
    {
      "cell_type": "markdown",
      "source": [
        "## Section 3: Working with Loops & Conditionals"
      ],
      "metadata": {
        "id": "3yWpQhZMlldu"
      }
    },
    {
      "cell_type": "code",
      "source": [],
      "metadata": {
        "id": "qSPAqOQ7p59d"
      },
      "execution_count": null,
      "outputs": []
    }
  ]
}